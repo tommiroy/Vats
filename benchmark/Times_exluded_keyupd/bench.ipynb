{
 "cells": [
  {
   "cell_type": "code",
   "execution_count": 14,
   "metadata": {},
   "outputs": [
    {
     "name": "stdout",
     "output_type": "stream",
     "text": [
      "[['Keygen', '67', '200', '53'], ['SignOff', '67', '200', '0'], ['SignAgg', '67', '200', '0'], ['SignOn', '67', '200', '75'], ['SignAgg2', '67', '200', '433'], ['Verification', '67', '200', '69']]\n",
      "[['Keygen', '334', '500', '503'], ['SignOff', '334', '500', '0'], ['SignAgg', '334', '500', '0'], ['SignOn', '334', '500', '1441'], ['SignAgg2', '334', '500', '10447'], ['Verification', '334', '500', '1423']]\n",
      "[['Keygen', '201', '300', '187'], ['SignOff', '201', '300', '0'], ['SignAgg', '201', '300', '0'], ['SignOn', '201', '300', '546'], ['SignAgg2', '201', '300', '3809'], ['Verification', '201', '300', '531']]\n",
      "Not a file bench.ipynb\n",
      "[['Keygen', '167', '500', '260'], ['SignOff', '167', '500', '0'], ['SignAgg', '167', '500', '0'], ['SignOn', '167', '500', '387'], ['SignAgg2', '167', '500', '2684'], ['Verification', '167', '500', '373']]\n",
      "[['Keygen', '34', '100', '18'], ['SignOff', '34', '100', '0'], ['SignAgg', '34', '100', '0'], ['SignOn', '34', '100', '25'], ['SignAgg2', '34', '100', '116'], ['Verification', '34', '100', '21']]\n",
      "[['Keygen', '67', '100', '29'], ['SignOff', '67', '100', '0'], ['SignAgg', '67', '100', '0'], ['SignOn', '67', '100', '75'], ['SignAgg2', '67', '100', '433'], ['Verification', '67', '100', '69']]\n",
      "[['Keygen', '101', '300', '105'], ['SignOff', '101', '300', '0'], ['SignAgg', '101', '300', '0'], ['SignOn', '101', '300', '153'], ['SignAgg2', '101', '300', '968'], ['Verification', '101', '300', '145']]\n",
      "[['Keygen', '134', '200', '92'], ['SignOff', '134', '200', '0'], ['SignAgg', '134', '200', '0'], ['SignOn', '134', '200', '256'], ['SignAgg2', '134', '200', '1700'], ['Verification', '134', '200', '245']]\n"
     ]
    }
   ],
   "source": [
    "# open directory\n",
    "import os\n",
    "\n",
    "directory = os.fsencode(\"/home/berran/Documents/gits/Vats/benchmark/Times_exluded_keyupd\")\n",
    "# hashmap to store the data\n",
    "Keygen = []\n",
    "SignOff = []\n",
    "SignAgg = []\n",
    "SignOn = []\n",
    "SignAgg2 = []\n",
    "Verification = []\n",
    "\n",
    "\n",
    "data = []\n",
    "\n",
    "\n",
    "\n",
    "for file in os.listdir(directory):\n",
    "     filename = os.fsdecode(file)\n",
    "     if not filename.endswith(\".ipynb\"):\n",
    "            f = open(filename, \"r\")\n",
    "            #split the file content into elements of a list\n",
    "            lines = f.readlines()\n",
    "            split_data = [line.strip().split(\",\") for line in lines]\n",
    "            data.append(split_data)\n",
    "            print(split_data)\n",
    "            f.close()\n",
    "            continue\n",
    "     else:\n",
    "            print(\"Not a file\",filename)\n",
    "\n"
   ]
  },
  {
   "cell_type": "code",
   "execution_count": 15,
   "metadata": {},
   "outputs": [
    {
     "name": "stdout",
     "output_type": "stream",
     "text": [
      "[['Keygen', '67', '200', '53'], ['Keygen', '334', '500', '503'], ['Keygen', '201', '300', '187'], ['Keygen', '167', '500', '260'], ['Keygen', '34', '100', '18'], ['Keygen', '67', '100', '29'], ['Keygen', '101', '300', '105'], ['Keygen', '134', '200', '92']]\n",
      "[['SignOff', '67', '200', '0'], ['SignOff', '334', '500', '0'], ['SignOff', '201', '300', '0'], ['SignOff', '167', '500', '0'], ['SignOff', '34', '100', '0'], ['SignOff', '67', '100', '0'], ['SignOff', '101', '300', '0'], ['SignOff', '134', '200', '0']]\n",
      "[['SignAgg', '67', '200', '0'], ['SignAgg', '334', '500', '0'], ['SignAgg', '201', '300', '0'], ['SignAgg', '167', '500', '0'], ['SignAgg', '34', '100', '0'], ['SignAgg', '67', '100', '0'], ['SignAgg', '101', '300', '0'], ['SignAgg', '134', '200', '0']]\n",
      "[['SignOn', '67', '200', '75'], ['SignOn', '334', '500', '1441'], ['SignOn', '201', '300', '546'], ['SignOn', '167', '500', '387'], ['SignOn', '34', '100', '25'], ['SignOn', '67', '100', '75'], ['SignOn', '101', '300', '153'], ['SignOn', '134', '200', '256']]\n"
     ]
    }
   ],
   "source": [
    "# Sort the data by the first element and group them\n",
    "Keygen = []\n",
    "SignOff = []\n",
    "SignAgg = []\n",
    "SignOn = []\n",
    "SignAgg2 = []\n",
    "Verification = []\n",
    "keyUpd = []\n",
    "\n",
    "for i in data:\n",
    "    for j in i:\n",
    "        if j[0] == \"Keygen\":\n",
    "            Keygen.append(j)\n",
    "        elif j[0] == \"SignOff\":\n",
    "            SignOff.append(j)\n",
    "        elif j[0] == \"SignAgg\":\n",
    "            SignAgg.append(j)\n",
    "        elif j[0] == \"SignOn\":\n",
    "            SignOn.append(j)\n",
    "        elif j[0] == \"SignAgg2\":\n",
    "            SignAgg2.append(j)\n",
    "        elif j[0] == \"Verification\":\n",
    "            Verification.append(j)\n",
    "        elif j[0] == \"KeyUpd\":\n",
    "            keyUpd.append(j)\n",
    "        else:\n",
    "            print(\"Not a valid input\")\n",
    "print(Keygen)\n",
    "print(SignOff)\n",
    "print(SignAgg)\n",
    "print(SignOn)\n"
   ]
  },
  {
   "cell_type": "code",
   "execution_count": 16,
   "metadata": {},
   "outputs": [
    {
     "name": "stderr",
     "output_type": "stream",
     "text": [
      "/tmp/ipykernel_37120/2866068050.py:19: MatplotlibDeprecationWarning: The get_cmap function was deprecated in Matplotlib 3.7 and will be removed two minor releases later. Use ``matplotlib.colormaps[name]`` or ``matplotlib.colormaps.get_cmap(obj)`` instead.\n",
      "  plt.scatter(*zip(*t_n_values), c=ms_values, cmap=cm.get_cmap('hsv'), marker='o', s=300)\n"
     ]
    },
    {
     "data": {
      "text/plain": [
       "<Figure size 640x480 with 0 Axes>"
      ]
     },
     "metadata": {},
     "output_type": "display_data"
    },
    {
     "data": {
      "text/plain": [
       "<Figure size 640x480 with 0 Axes>"
      ]
     },
     "metadata": {},
     "output_type": "display_data"
    },
    {
     "data": {
      "text/plain": [
       "<Figure size 640x480 with 0 Axes>"
      ]
     },
     "metadata": {},
     "output_type": "display_data"
    },
    {
     "data": {
      "text/plain": [
       "<Figure size 640x480 with 0 Axes>"
      ]
     },
     "metadata": {},
     "output_type": "display_data"
    },
    {
     "data": {
      "text/plain": [
       "<Figure size 640x480 with 0 Axes>"
      ]
     },
     "metadata": {},
     "output_type": "display_data"
    },
    {
     "data": {
      "text/plain": [
       "<Figure size 640x480 with 0 Axes>"
      ]
     },
     "metadata": {},
     "output_type": "display_data"
    }
   ],
   "source": [
    "import matplotlib.pyplot as plt\n",
    "\n",
    "\n",
    "# Group the data by 'label'\n",
    "grouped_data = {}\n",
    "for sublist in data:\n",
    "    for item in sublist:\n",
    "        label = item[0]\n",
    "        if label not in grouped_data:\n",
    "            grouped_data[label] = []\n",
    "        grouped_data[label].append(item)\n",
    "\n",
    "# Plotting\n",
    "for label, sublist in grouped_data.items():\n",
    "    t_n_values = [(int(item[1]), int(item[2])) for item in sublist]\n",
    "    ms_values = [int(item[3]) for item in sublist]\n",
    "\n",
    "    plt.figure()\n",
    "    plt.scatter(*zip(*t_n_values), c=ms_values, cmap='jet', marker='o', s=300)\n",
    "    plt.colorbar(label='Milliseconds')\n",
    "    plt.xlabel('t')\n",
    "    plt.ylabel('n')\n",
    "    plt.title(f'Plot for {label}')\n",
    "    plt.savefig(f'plot_{label}.png')\n",
    "\n",
    "    # Clear the plot for the next iteration\n",
    "    plt.clf()\n",
    "\n",
    "# Show the plots\n",
    "plt.show()\n"
   ]
  }
 ],
 "metadata": {
  "kernelspec": {
   "display_name": "Python 3",
   "language": "python",
   "name": "python3"
  },
  "language_info": {
   "codemirror_mode": {
    "name": "ipython",
    "version": 3
   },
   "file_extension": ".py",
   "mimetype": "text/x-python",
   "name": "python",
   "nbconvert_exporter": "python",
   "pygments_lexer": "ipython3",
   "version": "3.10.10"
  },
  "orig_nbformat": 4
 },
 "nbformat": 4,
 "nbformat_minor": 2
}
