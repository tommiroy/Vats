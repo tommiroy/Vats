{
 "cells": [
  {
   "cell_type": "code",
   "execution_count": 1,
   "metadata": {},
   "outputs": [
    {
     "name": "stdout",
     "output_type": "stream",
     "text": [
      "[['Keygen', '67', '200', '55'], ['KeyUpd', '67', '200', '5992'], ['SignOff', '67', '200', '0'], ['SignAgg', '67', '200', '0'], ['SignOn', '67', '200', '76'], ['SignAgg2', '67', '200', '436'], ['Verification', '67', '200', '70']]\n",
      "Not a file bench.ipynb\n",
      "[['Keygen', '34', '100', '19'], ['KeyUpd', '34', '100', '1500'], ['SignOff', '34', '100', '0'], ['SignAgg', '34', '100', '0'], ['SignOn', '34', '100', '25'], ['SignAgg2', '34', '100', '122'], ['Verification', '34', '100', '21']]\n",
      "[['Keygen', '67', '100', '31'], ['KeyUpd', '67', '100', '2182'], ['SignOff', '67', '100', '0'], ['SignAgg', '67', '100', '0'], ['SignOn', '67', '100', '75'], ['SignAgg2', '67', '100', '431'], ['Verification', '67', '100', '69']]\n",
      "[['Keygen', '134', '200', '95'], ['KeyUpd', '134', '200', '8755'], ['SignOff', '134', '200', '0'], ['SignAgg', '134', '200', '0'], ['SignOn', '134', '200', '262'], ['SignAgg2', '134', '200', '1816'], ['Verification', '134', '200', '250']]\n"
     ]
    }
   ],
   "source": [
    "# open directory\n",
    "import os\n",
    "\n",
    "directory = os.fsencode(\"/home/berran/Documents/gits/Vats/benchmark/Times_micro\")\n",
    "# hashmap to store the data\n",
    "Keygen = []\n",
    "SignOff = []\n",
    "SignAgg = []\n",
    "SignOn = []\n",
    "SignAgg2 = []\n",
    "Verification = []\n",
    "\n",
    "\n",
    "data = []\n",
    "\n",
    "\n",
    "\n",
    "for file in os.listdir(directory):\n",
    "     filename = os.fsdecode(file)\n",
    "     if not filename.endswith(\".ipynb\"):\n",
    "            f = open(filename, \"r\")\n",
    "            #split the file content into elements of a list\n",
    "            lines = f.readlines()\n",
    "            split_data = [line.strip().split(\",\") for line in lines]\n",
    "            data.append(split_data)\n",
    "            print(split_data)\n",
    "            f.close()\n",
    "            continue\n",
    "     else:\n",
    "            print(\"Not a file\",filename)\n",
    "\n"
   ]
  },
  {
   "cell_type": "code",
   "execution_count": 2,
   "metadata": {},
   "outputs": [
    {
     "name": "stdout",
     "output_type": "stream",
     "text": [
      "[['Keygen', '67', '200', '55'], ['Keygen', '34', '100', '19'], ['Keygen', '67', '100', '31'], ['Keygen', '134', '200', '95']]\n",
      "[['SignOff', '67', '200', '0'], ['SignOff', '34', '100', '0'], ['SignOff', '67', '100', '0'], ['SignOff', '134', '200', '0']]\n",
      "[['SignAgg', '67', '200', '0'], ['SignAgg', '34', '100', '0'], ['SignAgg', '67', '100', '0'], ['SignAgg', '134', '200', '0']]\n",
      "[['SignOn', '67', '200', '76'], ['SignOn', '34', '100', '25'], ['SignOn', '67', '100', '75'], ['SignOn', '134', '200', '262']]\n"
     ]
    }
   ],
   "source": [
    "# Sort the data by the first element and group them\n",
    "Keygen = []\n",
    "SignOff = []\n",
    "SignAgg = []\n",
    "SignOn = []\n",
    "SignAgg2 = []\n",
    "Verification = []\n",
    "keyUpd = []\n",
    "\n",
    "for i in data:\n",
    "    for j in i:\n",
    "        if j[0] == \"Keygen\":\n",
    "            Keygen.append(j)\n",
    "        elif j[0] == \"SignOff\":\n",
    "            SignOff.append(j)\n",
    "        elif j[0] == \"SignAgg\":\n",
    "            SignAgg.append(j)\n",
    "        elif j[0] == \"SignOn\":\n",
    "            SignOn.append(j)\n",
    "        elif j[0] == \"SignAgg2\":\n",
    "            SignAgg2.append(j)\n",
    "        elif j[0] == \"Verification\":\n",
    "            Verification.append(j)\n",
    "        elif j[0] == \"KeyUpd\":\n",
    "            keyUpd.append(j)\n",
    "        else:\n",
    "            print(\"Not a valid input\")\n",
    "print(Keygen)\n",
    "print(SignOff)\n",
    "print(SignAgg)\n",
    "print(SignOn)\n"
   ]
  },
  {
   "cell_type": "code",
   "execution_count": 3,
   "metadata": {},
   "outputs": [
    {
     "data": {
      "text/plain": [
       "<Figure size 640x480 with 0 Axes>"
      ]
     },
     "metadata": {},
     "output_type": "display_data"
    },
    {
     "data": {
      "text/plain": [
       "<Figure size 640x480 with 0 Axes>"
      ]
     },
     "metadata": {},
     "output_type": "display_data"
    },
    {
     "data": {
      "text/plain": [
       "<Figure size 640x480 with 0 Axes>"
      ]
     },
     "metadata": {},
     "output_type": "display_data"
    },
    {
     "data": {
      "text/plain": [
       "<Figure size 640x480 with 0 Axes>"
      ]
     },
     "metadata": {},
     "output_type": "display_data"
    },
    {
     "data": {
      "text/plain": [
       "<Figure size 640x480 with 0 Axes>"
      ]
     },
     "metadata": {},
     "output_type": "display_data"
    },
    {
     "data": {
      "text/plain": [
       "<Figure size 640x480 with 0 Axes>"
      ]
     },
     "metadata": {},
     "output_type": "display_data"
    },
    {
     "data": {
      "text/plain": [
       "<Figure size 640x480 with 0 Axes>"
      ]
     },
     "metadata": {},
     "output_type": "display_data"
    }
   ],
   "source": [
    "import matplotlib.pyplot as plt\n",
    "import matplotlib.cm as cm\n",
    "import pandas as pd\n",
    "\n",
    "# Group the data by 'label'\n",
    "grouped_data = {}\n",
    "for sublist in data:\n",
    "    for item in sublist:\n",
    "        label = item[0]\n",
    "        if label not in grouped_data:\n",
    "            grouped_data[label] = []\n",
    "        grouped_data[label].append(item)\n",
    "\n",
    "# Initialize a DataFrame for the table\n",
    "table_data = []\n",
    "\n",
    "# Plotting and table generation\n",
    "for label, sublist in grouped_data.items():\n",
    "    t_n_values = [(int(item[1]), int(item[2])) for item in sublist]\n",
    "    ms_values = [int(item[3]) for item in sublist]\n",
    "\n",
    "    # Scatter plot\n",
    "    plt.figure()\n",
    "    plt.scatter(*zip(*t_n_values), c=ms_values, cmap=cm.get_cmap('viridis'), marker='o', s=300)\n",
    "    colorbar = plt.colorbar()\n",
    "    colorbar.set_label('Millieseconds')\n",
    "    plt.xlabel('t')\n",
    "    plt.ylabel('n')\n",
    "    plt.title(f'Plot for {label}')\n",
    "    plt.savefig(f'micro_{label}.png')\n",
    "\n",
    "    # Table generation\n",
    "    for i, (t, n) in enumerate(t_n_values):\n",
    "        table_data.append([label, t, n, ms_values[i]])\n",
    "\n",
    "    # Clear the plot for the next iteration\n",
    "    plt.clf()\n",
    "\n",
    "# Create a DataFrame from the table data\n",
    "table_df = pd.DataFrame(table_data, columns=['Label', 't', 'n', 'Milliseconds'])\n",
    "\n",
    "# Display the table\n",
    "print(table_df)"
   ]
  }
 ],
 "metadata": {
  "kernelspec": {
   "display_name": "Python 3",
   "language": "python",
   "name": "python3"
  },
  "language_info": {
   "codemirror_mode": {
    "name": "ipython",
    "version": 3
   },
   "file_extension": ".py",
   "mimetype": "text/x-python",
   "name": "python",
   "nbconvert_exporter": "python",
   "pygments_lexer": "ipython3",
   "version": "3.10.10"
  },
  "orig_nbformat": 4
 },
 "nbformat": 4,
 "nbformat_minor": 2
}
